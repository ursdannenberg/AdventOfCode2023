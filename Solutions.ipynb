{
 "cells": [
  {
   "cell_type": "code",
   "execution_count": 56,
   "metadata": {},
   "outputs": [
    {
     "data": {
      "text/plain": [
       "[55477, 54431]"
      ]
     },
     "execution_count": 56,
     "metadata": {},
     "output_type": "execute_result"
    }
   ],
   "source": [
    "import re\n",
    "def replace_first_instance(string, forward):\n",
    "    \"\"\"Replace first instance of a spelled-out digit.\"\"\"\n",
    "    digits = {'one': '1', 'two': '2', 'three': '3', 'four': '4', 'five': '5', 'six': '6', 'seven': '7', 'eight': '8', 'nine': '9'}\n",
    "    for i in range(len(string)):\n",
    "        # Return unchanged string if numeric digit appears first.\n",
    "        if string[i].isdigit():\n",
    "            return string\n",
    "        for digit in digits:\n",
    "            # Forward search and replace\n",
    "            if forward and digit in string[:i+1]:\n",
    "                return string.replace(digit, digits[digit], 1)\n",
    "            # Backward search and replace\n",
    "            if not forward and digit[::-1] in string[:i+1]:\n",
    "                return string.replace(digit[::-1], digits[digit], 1)\n",
    "    # Return unchanged string if no spelled-out digit appears.\n",
    "    return string\n",
    "    \n",
    "def day_1(input_file):\n",
    "    \"\"\"Solve Day 1 puzzle of Advent of Code 2023.\"\"\"\n",
    "    sums = [0, 0]\n",
    "    with open(input_file, 'r') as file:\n",
    "        for line in file:\n",
    "            numbers = re.findall(r'\\d', line)\n",
    "            sums[0] += int(numbers[0] + numbers[-1])\n",
    "            # Replace first instance of a spelled-out digit\n",
    "            line = replace_first_instance(line, True)\n",
    "            # Replace last instance of a spelled-out digit\n",
    "            line = replace_first_instance(line[::-1], False)[::-1]\n",
    "            numbers = re.findall(r'\\d', line)\n",
    "            sums[1] += int(numbers[0] + numbers[-1])\n",
    "    return sums\n",
    "\n",
    "day_1('Day1.txt')  "
   ]
  },
  {
   "cell_type": "code",
   "execution_count": null,
   "metadata": {},
   "outputs": [],
   "source": []
  }
 ],
 "metadata": {
  "kernelspec": {
   "display_name": "base",
   "language": "python",
   "name": "python3"
  },
  "language_info": {
   "codemirror_mode": {
    "name": "ipython",
    "version": 3
   },
   "file_extension": ".py",
   "mimetype": "text/x-python",
   "name": "python",
   "nbconvert_exporter": "python",
   "pygments_lexer": "ipython3",
   "version": "3.10.8"
  }
 },
 "nbformat": 4,
 "nbformat_minor": 2
}
