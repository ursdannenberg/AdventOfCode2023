{
 "cells": [
  {
   "cell_type": "code",
   "execution_count": 56,
   "metadata": {},
   "outputs": [
    {
     "data": {
      "text/plain": [
       "[55477, 54431]"
      ]
     },
     "execution_count": 56,
     "metadata": {},
     "output_type": "execute_result"
    }
   ],
   "source": [
    "import re\n",
    "\n",
    "def replace_first_instance(string, forward=True):\n",
    "    \"\"\"Replace first instance of a spelled-out digit.\"\"\"\n",
    "    digits = {'one': '1', 'two': '2', 'three': '3', 'four': '4', 'five': '5', 'six': '6', 'seven': '7', 'eight': '8', 'nine': '9'}\n",
    "    for i in range(len(string)):\n",
    "        # Return unchanged string if numeric digit appears first.\n",
    "        if string[i].isdigit():\n",
    "            return string\n",
    "        for digit in digits:\n",
    "            # Forward search and replace\n",
    "            if forward and digit in string[:i+1]:\n",
    "                return string.replace(digit, digits[digit], 1)\n",
    "            # Backward search and replace\n",
    "            if not forward and digit[::-1] in string[:i+1]:\n",
    "                return string.replace(digit[::-1], digits[digit], 1)\n",
    "    # Return unchanged string if no spelled-out digit appears.\n",
    "    return string\n",
    "    \n",
    "def day_1(input_file):\n",
    "    \"\"\"Solve day 1 puzzle of Advent of Code 2023.\"\"\"\n",
    "    sums = [0, 0]\n",
    "    with open(input_file, 'r') as file:\n",
    "        for line in file:\n",
    "            numbers = re.findall(r'\\d', line)\n",
    "            sums[0] += int(numbers[0] + numbers[-1])\n",
    "            # Replace first instance of a spelled-out digit\n",
    "            line = replace_first_instance(line)\n",
    "            # Replace last instance of a spelled-out digit\n",
    "            line = replace_first_instance(line[::-1], forward=False)[::-1]\n",
    "            numbers = re.findall(r'\\d', line)\n",
    "            sums[1] += int(numbers[0] + numbers[-1])\n",
    "    return sums\n",
    "\n",
    "day_1('Day1.txt')  "
   ]
  },
  {
   "cell_type": "code",
   "execution_count": 19,
   "metadata": {},
   "outputs": [
    {
     "data": {
      "text/plain": [
       "(2528, 67363)"
      ]
     },
     "execution_count": 19,
     "metadata": {},
     "output_type": "execute_result"
    }
   ],
   "source": [
    "def day_2(input_file):\n",
    "    \"\"\"Solve day 2 puzzle of Advent of Code 2023.\"\"\"\n",
    "    part_1 = {'red': 12, 'green': 13, 'blue': 14}\n",
    "    ID_sum = 0 \n",
    "    powers = 0\n",
    "    with open(input_file, 'r') as file:\n",
    "        for i, line in enumerate(file):\n",
    "            game = line.strip('\\n').split(':', 1)[1].split(';')\n",
    "            game_possible = True\n",
    "            part_2 = {'red': 0, 'green': 0, 'blue': 0}\n",
    "            for cubes in game:\n",
    "                for cube in cubes.split(','):\n",
    "                    number, color = cube.split(' ')[1:]\n",
    "                    number = int(number)\n",
    "                    if number > part_1[color]: game_possible = False\n",
    "                    part_2[color] = max(number, part_2[color])                       \n",
    "            if game_possible: ID_sum += i+1\n",
    "            powers += part_2['red'] * part_2['green'] * part_2['blue']\n",
    "    return (ID_sum, powers)\n",
    "\n",
    "day_2('Day2.txt')"
   ]
  },
  {
   "cell_type": "code",
   "execution_count": null,
   "metadata": {},
   "outputs": [],
   "source": []
  }
 ],
 "metadata": {
  "kernelspec": {
   "display_name": "base",
   "language": "python",
   "name": "python3"
  },
  "language_info": {
   "codemirror_mode": {
    "name": "ipython",
    "version": 3
   },
   "file_extension": ".py",
   "mimetype": "text/x-python",
   "name": "python",
   "nbconvert_exporter": "python",
   "pygments_lexer": "ipython3",
   "version": "3.10.8"
  }
 },
 "nbformat": 4,
 "nbformat_minor": 2
}
