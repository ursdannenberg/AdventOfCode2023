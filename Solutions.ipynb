{
 "cells": [
  {
   "cell_type": "code",
   "execution_count": 56,
   "metadata": {},
   "outputs": [
    {
     "data": {
      "text/plain": [
       "[55477, 54431]"
      ]
     },
     "execution_count": 56,
     "metadata": {},
     "output_type": "execute_result"
    }
   ],
   "source": [
    "import re\n",
    "\n",
    "def replace_first_instance(string, forward=True):\n",
    "    \"\"\"Replace first instance of a spelled-out digit.\"\"\"\n",
    "    digits = {'one': '1', 'two': '2', 'three': '3', 'four': '4', 'five': '5', 'six': '6', 'seven': '7', 'eight': '8', 'nine': '9'}\n",
    "    for i in range(len(string)):\n",
    "        # Return unchanged string if numeric digit appears first.\n",
    "        if string[i].isdigit():\n",
    "            return string\n",
    "        for digit in digits:\n",
    "            # Forward search and replace\n",
    "            if forward and digit in string[:i+1]:\n",
    "                return string.replace(digit, digits[digit], 1)\n",
    "            # Backward search and replace\n",
    "            if not forward and digit[::-1] in string[:i+1]:\n",
    "                return string.replace(digit[::-1], digits[digit], 1)\n",
    "    # Return unchanged string if no spelled-out digit appears.\n",
    "    return string\n",
    "    \n",
    "def day_1(input_file):\n",
    "    \"\"\"Solve day 1 puzzle of Advent of Code 2023.\"\"\"\n",
    "    sums = [0, 0]\n",
    "    with open(input_file, 'r') as file:\n",
    "        for line in file:\n",
    "            numbers = re.findall(r'\\d', line)\n",
    "            sums[0] += int(numbers[0] + numbers[-1])\n",
    "            # Replace first instance of a spelled-out digit\n",
    "            line = replace_first_instance(line)\n",
    "            # Replace last instance of a spelled-out digit\n",
    "            line = replace_first_instance(line[::-1], forward=False)[::-1]\n",
    "            numbers = re.findall(r'\\d', line)\n",
    "            sums[1] += int(numbers[0] + numbers[-1])\n",
    "    return sums\n",
    "\n",
    "day_1('Day1.txt')  "
   ]
  },
  {
   "cell_type": "code",
   "execution_count": 19,
   "metadata": {},
   "outputs": [
    {
     "data": {
      "text/plain": [
       "(2528, 67363)"
      ]
     },
     "execution_count": 19,
     "metadata": {},
     "output_type": "execute_result"
    }
   ],
   "source": [
    "def day_2(input_file):\n",
    "    \"\"\"Solve day 2 puzzle of Advent of Code 2023.\"\"\"\n",
    "    part_1 = {'red': 12, 'green': 13, 'blue': 14}\n",
    "    ID_sum = 0 \n",
    "    powers = 0\n",
    "    with open(input_file, 'r') as file:\n",
    "        for i, line in enumerate(file):\n",
    "            game = line.strip('\\n').split(':', 1)[1].split(';')\n",
    "            game_possible = True\n",
    "            part_2 = {'red': 0, 'green': 0, 'blue': 0}\n",
    "            for cubes in game:\n",
    "                for cube in cubes.split(','):\n",
    "                    number, color = cube.split(' ')[1:]\n",
    "                    number = int(number)\n",
    "                    if number > part_1[color]:\n",
    "                        game_possible = False\n",
    "                    part_2[color] = max(number, part_2[color])                       \n",
    "            if game_possible:\n",
    "                ID_sum += i+1\n",
    "            powers += part_2['red'] * part_2['green'] * part_2['blue']\n",
    "    return (ID_sum, powers)\n",
    "\n",
    "day_2('Day2.txt')"
   ]
  },
  {
   "cell_type": "code",
   "execution_count": 35,
   "metadata": {},
   "outputs": [
    {
     "data": {
      "text/plain": [
       "(559667, 86841457)"
      ]
     },
     "execution_count": 35,
     "metadata": {},
     "output_type": "execute_result"
    }
   ],
   "source": [
    "def day_3(input_file):\n",
    "    \"\"\"Solve day 3 puzzle of Advent of Code 2023.\"\"\"\n",
    "    nbors = [(-1, -1), (-1, 0), (-1, 1), (0, -1), (0, 1), (1, -1), (1, 0), (1, 1)]\n",
    "    parts = ()\n",
    "    neighbours = ()\n",
    "    symbols = {}\n",
    "    with open(input_file, 'r') as file:\n",
    "        for i, line in enumerate(file):\n",
    "            part = ''\n",
    "            neighbours_part = set()\n",
    "            for j, char in enumerate(line):\n",
    "                if char.isdigit():\n",
    "                    part += char\n",
    "                    neighbours_part.update([(i+nbor[0],j+nbor[1]) for nbor in nbors]) \n",
    "                else:\n",
    "                    if part != '':\n",
    "                        parts += (part,)\n",
    "                        neighbours += (neighbours_part,)\n",
    "                        part = ''\n",
    "                        neighbours_part = set()                        \n",
    "                    if char != '.' and char != '\\n':\n",
    "                        symbols[(i, j)] = char\n",
    "                        \n",
    "    sum = 0\n",
    "    for i, part in enumerate(parts):\n",
    "        for neighbour in neighbours[i]:\n",
    "            if neighbour in symbols:\n",
    "                sum += int(part)\n",
    "                break\n",
    "            \n",
    "    gear_ratio = 0\n",
    "    for coord in [key for key, value in symbols.items() if value == '*']:\n",
    "        parts_gear = ()\n",
    "        for i, neighbour in enumerate(neighbours):\n",
    "            if coord in neighbour: \n",
    "                parts_gear += (int(parts[i]),)\n",
    "        if len(parts_gear) == 2:\n",
    "            gear_ratio += parts_gear[0] * parts_gear[1]\n",
    "        \n",
    "    return (sum, gear_ratio)                \n",
    "    \n",
    "day_3('Day3.txt')\n",
    "    "
   ]
  },
  {
   "cell_type": "code",
   "execution_count": 57,
   "metadata": {},
   "outputs": [
    {
     "data": {
      "text/plain": [
       "(51131, 19499881)"
      ]
     },
     "execution_count": 57,
     "metadata": {},
     "output_type": "execute_result"
    }
   ],
   "source": [
    "def day_4(input_file):\n",
    "    \"\"\"Solve day 4 puzzle of Advent of Code 2023.\"\"\" \n",
    "    sum = 0\n",
    "    num_cards = 0\n",
    "    stash = []      \n",
    "    with open(input_file, 'r') as file:\n",
    "        for i, line in enumerate(file):\n",
    "            winning_nums, nums = line.strip('\\n').split(': ')[1].split(' | ')\n",
    "            winning_nums = [int(num) for num in winning_nums.split()]\n",
    "            nums = [int(num) for num in nums.split()]\n",
    "            matching_nums = len([num for num in nums if num in winning_nums])\n",
    "            sum += int(2**matching_nums-1)\n",
    "            num_card = 1\n",
    "            if len(stash) > 0:\n",
    "                num_card += stash[0]\n",
    "                stash.pop(0)\n",
    "            num_cards += num_card\n",
    "            for i in range(matching_nums):\n",
    "                try:\n",
    "                    stash[i] += num_card\n",
    "                except IndexError:\n",
    "                    stash.append(num_card)\n",
    "    return((sum, num_cards))\n",
    "\n",
    "day_4('Day4.txt')\n",
    "    "
   ]
  },
  {
   "cell_type": "code",
   "execution_count": null,
   "metadata": {},
   "outputs": [],
   "source": []
  }
 ],
 "metadata": {
  "kernelspec": {
   "display_name": "base",
   "language": "python",
   "name": "python3"
  },
  "language_info": {
   "codemirror_mode": {
    "name": "ipython",
    "version": 3
   },
   "file_extension": ".py",
   "mimetype": "text/x-python",
   "name": "python",
   "nbconvert_exporter": "python",
   "pygments_lexer": "ipython3",
   "version": "3.10.8"
  }
 },
 "nbformat": 4,
 "nbformat_minor": 2
}
